# Metode Simpson 1/3
from math import e  # Untuk memanggil bilangan eksponen natural (e)

# Definisikan fungsi yang akan diintegralkan
def f(x):
    return e**x

# Implementasi Metode Simpson 1/3
def simpson13(x0, xn, n):
    # hitung ukuran h/ selisih xi dan xi+1
    h = (xn - x0) / n

    # Tentukan Jumlah
    integration = f(x0) + f(xn)

    for i in range(1, n):
        k = x0 + i * h
        if i % 2 == 0:
            integration += 2 * f(k)
        else:
            integration += 4 * f(k)

    # Final Integral
    integration = integration * h / 3

    return integration

# Sesi Input
lower_limit = float(input("Masukkan Batas Bawah Daerah Integral: "))
upper_limit = float(input("Masukkan Batas Atas Daerah Integral: "))
sub_interval = int(input("Masukkan Jumlah Pias: "))

# Memanggil Simpson 1/3
result = simpson13(lower_limit, upper_limit, sub_interval)
print(f"\n Hasil Integral dengan Metode Simpson 1/3: %0.6f" % (result))
